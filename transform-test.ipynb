{
 "cells": [
  {
   "cell_type": "code",
   "execution_count": 6,
   "metadata": {},
   "outputs": [],
   "source": [
    "from uuid import uuid4"
   ]
  },
  {
   "cell_type": "code",
   "execution_count": 15,
   "metadata": {},
   "outputs": [],
   "source": [
    "def get_contents(content):\n",
    "    contents = []\n",
    "\n",
    "    if content is None:\n",
    "        return contents\n",
    "\n",
    "    if content.name is None and content.type not in ['cdata', 'pcdata']:\n",
    "        contents += get_contents(content.left)\n",
    "        contents += get_contents(content.right)\n",
    "    else:\n",
    "        contents.append((content.name, content.occur, content.type))\n",
    "\n",
    "    return contents\n",
    "\n",
    "\n",
    "def get_attributes(attributes):\n",
    "    attributes_list = []\n",
    "\n",
    "    for attribute in attributes:\n",
    "        attribute_name = attribute.name\n",
    "        attribute_type = attribute.type\n",
    "        attribute_default_value = attribute.default_value\n",
    "        attribute_default = attribute.default\n",
    "        attribute_prefix = attribute.prefix\n",
    "\n",
    "        attributes_list.append((attribute_name, attribute_type, attribute_default, attribute_default_value,\n",
    "                                attribute_prefix))\n",
    "\n",
    "    return attributes_list"
   ]
  },
  {
   "cell_type": "code",
   "execution_count": 7,
   "metadata": {},
   "outputs": [],
   "source": [
    "prefix = 'asagur#'\n",
    "\n",
    "lang = 'de'\n",
    "\n",
    "xml_id = str(uuid4())"
   ]
  },
  {
   "cell_type": "code",
   "execution_count": 8,
   "metadata": {},
   "outputs": [
    {
     "data": {
      "text/plain": [
       "'96a621af-613b-4388-bea7-8ebf6f6fb688'"
      ]
     },
     "execution_count": 8,
     "metadata": {},
     "output_type": "execute_result"
    }
   ],
   "source": [
    "xml_id"
   ]
  },
  {
   "cell_type": "code",
   "execution_count": 10,
   "metadata": {},
   "outputs": [],
   "source": [
    "import xml.etree.ElementTree as Et\n",
    "from lxml.etree import DTD, DTDParseError\n",
    "from io import StringIO"
   ]
  },
  {
   "cell_type": "code",
   "execution_count": 8,
   "metadata": {},
   "outputs": [],
   "source": [
    "root = Et.Element('xsl:stylesheet', attrib={'version': '1.0', 'xmlns:xsl': 'http://www.w3.org/1999/XSL/Transform'})\n",
    "Et.SubElement(root, 'xsl:output', attrib={'indent': 'yes'})\n",
    "xsl_template_root = Et.SubElement(root, 'xsl:template', attrib={'match': '/'})\n",
    "\n",
    "rdf = Et.SubElement(xsl_template_root, 'rdf:RDF', attrib={\n",
    "    'xmlns:rdf': 'http://www.w3.org/1999/02/22-rdf-syntax-ns#', 'xmlns:dtd': prefix,\n",
    "    'xmlns:rdfs': 'http://www.w3.org/2000/01/rdf-schema#'})"
   ]
  },
  {
   "cell_type": "code",
   "execution_count": 27,
   "metadata": {},
   "outputs": [],
   "source": [
    "dtd = DTD(StringIO(dtd))"
   ]
  },
  {
   "cell_type": "code",
   "execution_count": null,
   "metadata": {},
   "outputs": [],
   "source": [
    "for element in dtd.elements():\n",
    "    print(element.name)\n",
    "    contents = get_contents(element.content)\n",
    "    print(contents)\n",
    "    attributes = get_attributes(element.attributes())\n",
    "    print(attributes)\n",
    "    # break"
   ]
  },
  {
   "cell_type": "code",
   "execution_count": 35,
   "metadata": {},
   "outputs": [],
   "source": [
    "import subprocess"
   ]
  },
  {
   "cell_type": "code",
   "execution_count": 50,
   "metadata": {},
   "outputs": [],
   "source": [
    "with open(\"examples/sample1.dtd\", \"r\") as f:\n",
    "# with open(\"examples/gii-norm.dtd\", \"r\") as f:\n",
    "    dtd = f.read()\n",
    "\n",
    "with open(\"examples/sample1.xml\", \"r\") as f:\n",
    "# with open(\"examples/BJNR004910015.xml\", \"r\") as f:\n",
    "    xml = f.read()\n",
    "\n",
    "dtd = DTD(StringIO(dtd))"
   ]
  },
  {
   "cell_type": "code",
   "execution_count": 51,
   "metadata": {},
   "outputs": [
    {
     "data": {
      "text/plain": [
       "CompletedProcess(args=['xsltproc', '-o', 'sample1-transformed.xml', 'sample1-mapping.xsl', 'examples/sample1.xml'], returncode=0, stdout=b'', stderr=b'')"
      ]
     },
     "execution_count": 51,
     "metadata": {},
     "output_type": "execute_result"
    }
   ],
   "source": [
    "for element in dtd.elements():\n",
    "    name = element.name\n",
    "\n",
    "    # get content (VALUE OR child Elements) of the current element\n",
    "    contents = get_contents(element.content)\n",
    "\n",
    "    # get all XML attributes of the current element\n",
    "    attributes = get_attributes(element.attributes())\n",
    "\n",
    "    # generate the subject ID for all elements found in a XML file\n",
    "    element_node = Et.Element('xsl:for-each', attrib={'select': f'//{name}'})\n",
    "    description = Et.SubElement(element_node, 'rdf:Description')\n",
    "    description_id_attribute = Et.SubElement(description, 'xsl:attribute', attrib={'name': 'rdf:about'})\n",
    "    description_id_attribute.text = prefix\n",
    "    description_id_name = Et.SubElement(description_id_attribute, 'xsl:value-of', attrib={'select': 'local-name()'})\n",
    "    description_id_name.tail = \"-\"\n",
    "    Et.SubElement(description_id_attribute, 'xsl:number', attrib={'level': 'any'})\n",
    "\n",
    "    # annotate element name as RDF type\n",
    "    Et.SubElement(description, 'rdf:type', attrib={'rdf:resource': f'{prefix}{name}'})\n",
    "\n",
    "    # create annotations for all attributes\n",
    "    for attribute in attributes:\n",
    "        attribute_type = attribute[1]\n",
    "\n",
    "        # generate entry only if attribute exists\n",
    "        attribute_check = Et.Element('xsl:if', attrib={'test': f'@{attribute[0]}'})\n",
    "\n",
    "        attribute_node = Et.SubElement(attribute_check, f'dtd:has_{attribute[0]}',\n",
    "                                        attrib={'xml:lang': lang} if attribute_type != 'enumeration' else {})\n",
    "\n",
    "        # attribute contains only one entry\n",
    "        if attribute_type != 'enumeration':\n",
    "            Et.SubElement(attribute_node, 'xsl:value-of', attrib={'select': f'@{attribute[0]}'})\n",
    "        else:\n",
    "            enumeration_attr = Et.SubElement(attribute_node, 'xsl:attribute', attrib={'name': 'rdf:resource'})\n",
    "            enumeration_attr.text = prefix\n",
    "            Et.SubElement(enumeration_attr, 'xsl:value-of', attrib={'select': f'@{attribute[0]}'})\n",
    "\n",
    "            attribute_label = Et.Element('rdf:Description')\n",
    "            attribute_label_select = Et.SubElement(attribute_label, 'xsl:attribute', attrib={'name': 'rdf:about'})\n",
    "            attribute_label_select.text = prefix\n",
    "            Et.SubElement(attribute_label_select, 'xsl:value-of', attrib={'select': f'//@{attribute[0]}'})\n",
    "            attribute_label_rdfs_label = Et.SubElement(attribute_label, 'rdfs:label', attrib={'xml:lang': lang})\n",
    "            Et.SubElement(attribute_label_rdfs_label, 'xsl:value-of', attrib={'select': f'//@{attribute[0]}'})\n",
    "\n",
    "            rdf.append(attribute_label)\n",
    "\n",
    "        description.append(attribute_check)\n",
    "\n",
    "    # annotate all content\n",
    "    for content in contents:\n",
    "        # current content is a child element\n",
    "        if content[0]:\n",
    "            content_loop = Et.Element('xsl:for-each', attrib={'select': content[0]})\n",
    "            rdf_content = Et.SubElement(content_loop, f'dtd:has_{content[0]}')\n",
    "\n",
    "            rdf_id_attribute = Et.SubElement(rdf_content, 'xsl:attribute', attrib={'name': 'rdf:resource'})\n",
    "            rdf_id_attribute.text = prefix\n",
    "            rdf_id_name = Et.SubElement(rdf_id_attribute, 'xsl:value-of', attrib={'select': 'local-name()'})\n",
    "            rdf_id_name.tail = \"-\"\n",
    "            Et.SubElement(rdf_id_attribute, 'xsl:number', attrib={'level': 'any'})\n",
    "\n",
    "            description.append(content_loop)\n",
    "        # current content is plain text\n",
    "        else:\n",
    "            current_content_node = Et.Element('dtd:has_Value', attrib={'xml:lang': lang})\n",
    "            Et.SubElement(current_content_node, 'xsl:value-of', attrib={'select': 'current()'})\n",
    "\n",
    "            description.append(current_content_node)\n",
    "\n",
    "    rdf.append(element_node)\n",
    "\n",
    "tree = Et.ElementTree(root)\n",
    "# Et.indent(tree)\n",
    "\n",
    "output = str(uuid4())\n",
    "\n",
    "tree.write('sample1-mapping.xsl', xml_declaration=True, encoding='unicode')\n",
    "\n",
    "subprocess.run(['xsltproc', '-o', 'sample1-transformed.xml', 'sample1-mapping.xsl', 'examples/sample1.xml'],\n",
    "                                    capture_output=True)"
   ]
  }
 ],
 "metadata": {
  "kernelspec": {
   "display_name": "Python 3",
   "language": "python",
   "name": "python3"
  },
  "language_info": {
   "codemirror_mode": {
    "name": "ipython",
    "version": 3
   },
   "file_extension": ".py",
   "mimetype": "text/x-python",
   "name": "python",
   "nbconvert_exporter": "python",
   "pygments_lexer": "ipython3",
   "version": "3.8.10"
  },
  "orig_nbformat": 4,
  "vscode": {
   "interpreter": {
    "hash": "916dbcbb3f70747c44a77c7bcd40155683ae19c65e1c03b4aa3499c5328201f1"
   }
  }
 },
 "nbformat": 4,
 "nbformat_minor": 2
}
